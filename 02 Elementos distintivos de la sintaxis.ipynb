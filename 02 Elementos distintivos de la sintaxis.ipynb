{
 "cells": [
  {
   "cell_type": "markdown",
   "id": "little-click",
   "metadata": {},
   "source": [
    "# Operadores"
   ]
  },
  {
   "cell_type": "code",
   "execution_count": 1,
   "id": "extended-fashion",
   "metadata": {},
   "outputs": [
    {
     "name": "stdout",
     "output_type": "stream",
     "text": [
      "25\n",
      "1\n",
      "3\n",
      "casacasacasacasacasa\n",
      "casahola\n"
     ]
    }
   ],
   "source": [
    "# No tradicionales\n",
    "print(5**2)  # potenciación\n",
    "print(10%3)  # resto\n",
    "print(10//3)  # división entera\n",
    "# Multiplicación de cadenas???\n",
    "print(\"casa\"*5)\n",
    "# Concatenación (sólo para literales)\n",
    "print(\"casa\" \"hola\")"
   ]
  },
  {
   "cell_type": "code",
   "execution_count": null,
   "id": "annoying-calculation",
   "metadata": {},
   "outputs": [],
   "source": [
    "# operadores de asignación aumentada\n",
    "var=10\n",
    "var=var+5\n",
    "var+=5\n",
    "var+=1\n",
    "print(var)\n",
    "var-=2\n",
    "print(var)\n",
    "var*=5\n",
    "print(var)"
   ]
  },
  {
   "cell_type": "code",
   "execution_count": 2,
   "id": "stopped-disclosure",
   "metadata": {},
   "outputs": [
    {
     "name": "stdout",
     "output_type": "stream",
     "text": [
      "True\n",
      "True\n",
      "True\n",
      "False\n"
     ]
    }
   ],
   "source": [
    "# operadores comparación y lógicos\n",
    "a=5\n",
    "b=12\n",
    "print(a==5)\n",
    "print(a!=b)\n",
    "print(a==5 and a!=b)\n",
    "print(a==7 or a==b)"
   ]
  },
  {
   "cell_type": "markdown",
   "id": "swedish-printer",
   "metadata": {},
   "source": [
    "# Variables\n",
    " - Una sola palabra\n",
    " - Letras, números, y _\n",
    " - No empezar con números\n",
    " - Case sensitive\n",
    " - Tipado dinámico"
   ]
  },
  {
   "cell_type": "code",
   "execution_count": 4,
   "id": "aquatic-baltimore",
   "metadata": {},
   "outputs": [
    {
     "name": "stdout",
     "output_type": "stream",
     "text": [
      "<class 'float'>\n",
      "<class 'str'>\n"
     ]
    }
   ],
   "source": [
    "# No declaramos el tipo de una variable\n",
    "var1=10\n",
    "Var1=12.5 #case sensitive\n",
    "var2, var3=15, 12 # curiosa forma de asignación\n",
    "# print(\"var1 - Var1: \", var1, Var1) # no es lo mismo\n",
    "# print(f\"Suma: {var2+var3}\")\n",
    "# Con type(expresión) puedo saber el tipo de la expresión\n",
    "print(type(Var1))\n",
    "Var1=\"casa\"\n",
    "print(type(Var1))"
   ]
  },
  {
   "cell_type": "markdown",
   "id": "grateful-stomach",
   "metadata": {},
   "source": [
    "# Tipos de datos básicos\n",
    "\n",
    " - Enteros (int)\n",
    " - Punto flotante (float)\n",
    " - Complejos (complex)\n",
    " - Booleanos (boolean)\n",
    " - Cadenas (string)"
   ]
  },
  {
   "cell_type": "code",
   "execution_count": null,
   "id": "offensive-haven",
   "metadata": {},
   "outputs": [],
   "source": [
    "print(type(5))\n",
    "print(type(5.3))\n",
    "print(type(3+5j))\n",
    "print(type(5==3))"
   ]
  },
  {
   "cell_type": "code",
   "execution_count": 5,
   "id": "elementary-drawing",
   "metadata": {},
   "outputs": [
    {
     "name": "stdout",
     "output_type": "stream",
     "text": [
      "10.2\n",
      "<class 'str'>\n"
     ]
    }
   ],
   "source": [
    "# A partir de 3.5 puedo usar type hints... No es una cuestión del intérprete, \n",
    "# es para legibilidad, o el uso de lints, y para autocompletado inteligente\n",
    "decimal:float=10.2\n",
    "print(decimal)\n",
    "decimal=\"Casa\"\n",
    "print(type(decimal))"
   ]
  }
 ],
 "metadata": {
  "kernelspec": {
   "display_name": "Python 3",
   "language": "python",
   "name": "python3"
  },
  "language_info": {
   "codemirror_mode": {
    "name": "ipython",
    "version": 3
   },
   "file_extension": ".py",
   "mimetype": "text/x-python",
   "name": "python",
   "nbconvert_exporter": "python",
   "pygments_lexer": "ipython3",
   "version": "3.7.7"
  }
 },
 "nbformat": 4,
 "nbformat_minor": 5
}
